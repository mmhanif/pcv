{
 "cells": [
  {
   "cell_type": "markdown",
   "id": "77ad42c9",
   "metadata": {},
   "source": [
    "# Principle Component Analysis (PCA)"
   ]
  },
  {
   "cell_type": "markdown",
   "id": "39028c43",
   "metadata": {},
   "source": [
    "Code from Chapter 1, Section 1.3 *PCA of Images* of [**Programming Computer Vision**](http://programmingcomputervision.com/) by Jan Erik Solem.\n",
    "\n",
    "Code has been modified to work with Python 3.x and also cleaned up use standarding aliases for numpy and matplotlib. "
   ]
  },
  {
   "cell_type": "code",
   "execution_count": null,
   "id": "1cc2373c",
   "metadata": {},
   "outputs": [],
   "source": [
    "from PIL import Image\n",
    "import numpy as np\n",
    "import matplotlib.pyplot as plt\n",
    "\n",
    "import pickle\n",
    "\n",
    "import imtools"
   ]
  },
  {
   "cell_type": "code",
   "execution_count": null,
   "id": "29527c39",
   "metadata": {},
   "outputs": [],
   "source": [
    "def pca(X):\n",
    "    \"\"\" \n",
    "    Principal Component Analysis\n",
    "        input: X, matrix with training data stored as flattened arrays in rows\n",
    "        return: projection matrix (with important dimensions first), variance and mean\n",
    "    \"\"\"\n",
    "    \n",
    "    # get dimensions\n",
    "    num_data, dim = X.shape\n",
    "    \n",
    "    # center data\n",
    "    mean_X = X.mean(axis=0)\n",
    "    X = X - mean_X\n",
    "    \n",
    "    if dim > num_data:\n",
    "        # PCA - compact trick used\n",
    "        M = np.dot(X, X.T)  # covariance matrix\n",
    "        e, EV = np.linalg.eigh(M)  # eigenvalues and eigenvectors\n",
    "        tmp = np.dot(X.T, EV).T  # this is the compact trick\n",
    "        V = tmp[::-1]  # reverse since last eigenvectors are the ones we want\n",
    "        S = sqrt(e)[::-1]  # reverse since eigenvalues are in increasing order\n",
    "        for i in range(V.shape[1]):\n",
    "            V[:, i] /= S\n",
    "    else:\n",
    "        # PCA - SVA used\n",
    "        U, S, V = np.linalg.svd(X)\n",
    "        V = V[:num_data]  # only makes sense to return the first num_data values\n",
    "        \n",
    "    # return the projection matrix, the variance and the mean\n",
    "    return V, S, mean_X"
   ]
  },
  {
   "cell_type": "markdown",
   "id": "f765291f",
   "metadata": {},
   "source": [
    "Load image filenames from directory"
   ]
  },
  {
   "cell_type": "code",
   "execution_count": null,
   "id": "782751ff",
   "metadata": {},
   "outputs": [],
   "source": [
    "imlist = imtools.get_imlist('data/a_thumbs/')"
   ]
  },
  {
   "cell_type": "markdown",
   "id": "ec437b98",
   "metadata": {},
   "source": [
    "Get image size and number"
   ]
  },
  {
   "cell_type": "code",
   "execution_count": null,
   "id": "aa77530b",
   "metadata": {},
   "outputs": [],
   "source": [
    "im = np.array(Image.open(imlist[0]))\n",
    "m, n = im.shape[0:2]\n",
    "imnbr = len(imlist)\n",
    "print(f\"{imnbr} images of size ({m}, {n})\")"
   ]
  },
  {
   "cell_type": "markdown",
   "id": "81af215a",
   "metadata": {},
   "source": [
    "Create matrix to store all flattened images"
   ]
  },
  {
   "cell_type": "code",
   "execution_count": null,
   "id": "020577dc",
   "metadata": {},
   "outputs": [],
   "source": [
    "immatrix = np.array([np.array(Image.open(im)).flatten() for im in imlist], 'f')"
   ]
  },
  {
   "cell_type": "markdown",
   "id": "9df1a113",
   "metadata": {},
   "source": [
    "Perform PCA"
   ]
  },
  {
   "cell_type": "code",
   "execution_count": null,
   "id": "d7dd48ba",
   "metadata": {},
   "outputs": [],
   "source": [
    "V, S, immean = pca(immatrix)"
   ]
  },
  {
   "cell_type": "markdown",
   "id": "61cbdd4e",
   "metadata": {},
   "source": [
    "Show some images (mean and first 7 modes)"
   ]
  },
  {
   "cell_type": "code",
   "execution_count": null,
   "id": "f976eb61",
   "metadata": {},
   "outputs": [],
   "source": [
    "plt.figure()\n",
    "plt.gray()\n",
    "plt.subplot(2, 4, 1)\n",
    "plt.imshow(immean.reshape(m, n))\n",
    "plt.axis('off')\n",
    "for i in range(7):\n",
    "    plt.subplot(2, 4, i+2)\n",
    "    plt.axis('off')\n",
    "    plt.imshow(V[i].reshape(m, n))\n",
    "plt.show()"
   ]
  },
  {
   "cell_type": "markdown",
   "id": "03dd1e3e",
   "metadata": {},
   "source": [
    "Save mean and principal components"
   ]
  },
  {
   "cell_type": "code",
   "execution_count": null,
   "id": "aa05b248",
   "metadata": {},
   "outputs": [],
   "source": [
    "with open('font_pca_modes.pkl', 'wb') as f:\n",
    "    pickle.dump(immean, f)\n",
    "    pickle.dump(V, f)"
   ]
  },
  {
   "cell_type": "code",
   "execution_count": null,
   "id": "b4bafbc8",
   "metadata": {},
   "outputs": [],
   "source": []
  }
 ],
 "metadata": {
  "kernelspec": {
   "display_name": "Python 3 (ipykernel)",
   "language": "python",
   "name": "python3"
  },
  "language_info": {
   "codemirror_mode": {
    "name": "ipython",
    "version": 3
   },
   "file_extension": ".py",
   "mimetype": "text/x-python",
   "name": "python",
   "nbconvert_exporter": "python",
   "pygments_lexer": "ipython3",
   "version": "3.9.6"
  }
 },
 "nbformat": 4,
 "nbformat_minor": 5
}
