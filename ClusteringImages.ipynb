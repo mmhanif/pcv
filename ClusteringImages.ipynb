{
 "cells": [
  {
   "cell_type": "markdown",
   "id": "0565d7b2",
   "metadata": {},
   "source": [
    "# Clustering Images"
   ]
  },
  {
   "cell_type": "markdown",
   "id": "7fe59b78",
   "metadata": {},
   "source": [
    "Code from Chapter 6 *Clustering Images* of [**Programming Computer Vision**](http://programmingcomputervision.com/) by *Jan Erik Solem*.\n",
    "\n",
    "Code has been modified to work with Python 3.x and also cleaned up use standarding aliases for numpy and matplotlib. A few other changes mostly in graphing code to more clearly show clusters."
   ]
  },
  {
   "cell_type": "code",
   "execution_count": null,
   "id": "a0499a59",
   "metadata": {},
   "outputs": [],
   "source": [
    "import os\n",
    "import pickle\n",
    "\n",
    "from PIL import Image, ImageDraw\n",
    "from scipy.cluster.vq import kmeans, vq, whiten\n",
    "import numpy as np\n",
    "import matplotlib.pyplot as plt\n",
    "from matplotlib import gridspec\n",
    "import imtools\n",
    "import hcluster"
   ]
  },
  {
   "cell_type": "markdown",
   "id": "1af5ba8c",
   "metadata": {},
   "source": [
    "## 6.1 *K*-Means Clustering"
   ]
  },
  {
   "cell_type": "markdown",
   "id": "925ae8da",
   "metadata": {},
   "source": [
    "### SciPy Clustering example - 2D points"
   ]
  },
  {
   "cell_type": "code",
   "execution_count": null,
   "id": "79dee21a",
   "metadata": {},
   "outputs": [],
   "source": [
    "class1 = 1.5 * np.random.randn(100,2)\n",
    "class2 = np.random.randn(100, 2) + np.array([5, 5])\n",
    "features = np.vstack((class1, class2))"
   ]
  },
  {
   "cell_type": "code",
   "execution_count": null,
   "id": "9cae810a",
   "metadata": {},
   "outputs": [],
   "source": [
    "centroids, variance = kmeans(features, 2)"
   ]
  },
  {
   "cell_type": "code",
   "execution_count": null,
   "id": "dd58f39a",
   "metadata": {},
   "outputs": [],
   "source": [
    "code, distance = vq(features, centroids)"
   ]
  },
  {
   "cell_type": "code",
   "execution_count": null,
   "id": "cf4d1bb7",
   "metadata": {},
   "outputs": [],
   "source": [
    "plt.figure(figsize=(15,8))\n",
    "ndx = np.where(code==0)[0]\n",
    "plt.plot(features[ndx, 0], features[ndx, 1], '*')\n",
    "ndx = np.where(code==1)[0]\n",
    "plt.plot(features[ndx, 0], features[ndx, 1], 'r.')\n",
    "plt.plot(centroids[:, 0], centroids[:, 1], 'go', markersize=15)\n",
    "plt.axis('off')\n",
    "plt.show()"
   ]
  },
  {
   "cell_type": "code",
   "execution_count": null,
   "id": "8a11462b",
   "metadata": {},
   "outputs": [],
   "source": [
    "variance"
   ]
  },
  {
   "cell_type": "code",
   "execution_count": null,
   "id": "a85c2513",
   "metadata": {},
   "outputs": [],
   "source": [
    "print(code)"
   ]
  },
  {
   "cell_type": "code",
   "execution_count": null,
   "id": "581b58b1",
   "metadata": {},
   "outputs": [],
   "source": [
    "print(distance)"
   ]
  },
  {
   "cell_type": "markdown",
   "id": "43abe2f9",
   "metadata": {},
   "source": [
    "### Clustering images"
   ]
  },
  {
   "cell_type": "code",
   "execution_count": null,
   "id": "d65a886b",
   "metadata": {},
   "outputs": [],
   "source": [
    "fonts_imlist = imtools.get_imlist('data/a_selected_thumbs/')\n",
    "imnbr = len(fonts_imlist)\n",
    "im = np.array(Image.open(fonts_imlist[0]))\n",
    "m, n = im.shape[0:2]\n",
    "print(f\"{imnbr} images of size ({m}, {n}) to be loaded\")"
   ]
  },
  {
   "cell_type": "markdown",
   "id": "06eb642f",
   "metadata": {},
   "source": [
    "Load model file"
   ]
  },
  {
   "cell_type": "code",
   "execution_count": null,
   "id": "4b0d8c2d",
   "metadata": {},
   "outputs": [],
   "source": [
    "with open('font_pca_modes.pkl', 'rb') as f:\n",
    "    immean = pickle.load(f)\n",
    "    V = pickle.load(f)"
   ]
  },
  {
   "cell_type": "markdown",
   "id": "6de9caf3",
   "metadata": {},
   "source": [
    "Create matrix to store flattened images and loaded images into it"
   ]
  },
  {
   "cell_type": "code",
   "execution_count": null,
   "id": "1fbba9bb",
   "metadata": {},
   "outputs": [],
   "source": [
    "immatrix = np.array([np.array(Image.open(im)).flatten() for im in fonts_imlist], 'f')"
   ]
  },
  {
   "cell_type": "markdown",
   "id": "420c819d",
   "metadata": {},
   "source": [
    "Let's see what they look like"
   ]
  },
  {
   "cell_type": "code",
   "execution_count": null,
   "id": "da3f5efc",
   "metadata": {},
   "outputs": [],
   "source": [
    "plt.figure(figsize=(15, 4))\n",
    "plt.gray()\n",
    "for i in range(imnbr):\n",
    "    plt.subplot(4,19,i+1)\n",
    "    plt.imshow(immatrix[i].reshape(m, n))\n",
    "    plt.axis('off')"
   ]
  },
  {
   "cell_type": "markdown",
   "id": "f9ac00d7",
   "metadata": {},
   "source": [
    "Project on the 40 first PCs"
   ]
  },
  {
   "cell_type": "code",
   "execution_count": null,
   "id": "0eb8c056",
   "metadata": {},
   "outputs": [],
   "source": [
    "immean = immean.flatten()\n",
    "projected = np.array([np.dot(V[:40], immatrix[i]-immean) for i in range(imnbr)])"
   ]
  },
  {
   "cell_type": "markdown",
   "id": "9a710e14",
   "metadata": {},
   "source": [
    "*K*-means"
   ]
  },
  {
   "cell_type": "code",
   "execution_count": null,
   "id": "c2ed6084",
   "metadata": {},
   "outputs": [],
   "source": [
    "k = 3"
   ]
  },
  {
   "cell_type": "code",
   "execution_count": null,
   "id": "66e972f1",
   "metadata": {},
   "outputs": [],
   "source": [
    "projected = whiten(projected)\n",
    "centroids, distorted = kmeans(projected, k)\n",
    "code, distance = vq(projected, centroids)"
   ]
  },
  {
   "cell_type": "markdown",
   "id": "1e687936",
   "metadata": {},
   "source": [
    "Plot clusters"
   ]
  },
  {
   "cell_type": "code",
   "execution_count": null,
   "id": "9baf797e",
   "metadata": {},
   "outputs": [],
   "source": [
    "grid_size_for_k = {2:(2,1), 3:(2,2), 4:(2,2), 5:(3,2), 6:(3,3), 7:(4,2), 8:(4,2)}\n",
    "ncol, nrow = grid_size_for_k[k]"
   ]
  },
  {
   "cell_type": "code",
   "execution_count": null,
   "id": "25811c37",
   "metadata": {},
   "outputs": [],
   "source": [
    "fig = plt.figure(figsize=(15, 8))\n",
    "outer = gridspec.GridSpec(ncol, nrow, wspace=0.2, hspace=0.2)\n",
    "plt.gray()\n",
    "for i in range(k):\n",
    "    ind = np.where(code==i)[0]\n",
    "    inner = gridspec.GridSpecFromSubplotSpec(4, 10,\n",
    "                    subplot_spec=outer[i], wspace=0.1, hspace=0.1)\n",
    "    for j in range(np.minimum(len(ind), 40)):\n",
    "        ax = plt.Subplot(fig, inner[j])\n",
    "        ax.axis('off')\n",
    "        ax.imshow(immatrix[ind[j]].reshape(m, n))\n",
    "        if j == 0:\n",
    "            ax.set_title(f\"Cluster {i}\")\n",
    "        fig.add_subplot(ax)\n",
    "plt.show()"
   ]
  },
  {
   "cell_type": "markdown",
   "id": "e4c5728e",
   "metadata": {},
   "source": [
    "### Visualizing the Images on Principal Components"
   ]
  },
  {
   "cell_type": "markdown",
   "id": "3fb3b67b",
   "metadata": {},
   "source": [
    "Pick two principal components for visualization"
   ]
  },
  {
   "cell_type": "code",
   "execution_count": null,
   "id": "1dde8aaa",
   "metadata": {},
   "outputs": [],
   "source": [
    "component1, component2 = 0, 1"
   ]
  },
  {
   "cell_type": "code",
   "execution_count": null,
   "id": "513e434f",
   "metadata": {},
   "outputs": [],
   "source": [
    "projected_2pc = np.array([np.dot(V[[component1, component2]], immatrix[i] - immean) for i in range(imnbr)])"
   ]
  },
  {
   "cell_type": "code",
   "execution_count": null,
   "id": "66c61943",
   "metadata": {},
   "outputs": [],
   "source": [
    "projected_2pc.shape"
   ]
  },
  {
   "cell_type": "markdown",
   "id": "39f8f4f5",
   "metadata": {},
   "source": [
    "Create a new image with a white background"
   ]
  },
  {
   "cell_type": "code",
   "execution_count": null,
   "id": "44ef1348",
   "metadata": {},
   "outputs": [],
   "source": [
    "h, w = 1200, 1200\n",
    "img = Image.new('RGB', (w, h), (255, 255, 255))\n",
    "draw = ImageDraw.Draw(img)"
   ]
  },
  {
   "cell_type": "markdown",
   "id": "da98a93b",
   "metadata": {},
   "source": [
    "Draw axis"
   ]
  },
  {
   "cell_type": "code",
   "execution_count": null,
   "id": "ab7546ec",
   "metadata": {},
   "outputs": [],
   "source": [
    "draw.line( (0, h/2, w, h/2), fill=(255,0,0) )\n",
    "draw.line( (w/2, 0, w/2, h), fill=(255,0,0) )"
   ]
  },
  {
   "cell_type": "markdown",
   "id": "f9580139",
   "metadata": {},
   "source": [
    "Scale coordinates to fit"
   ]
  },
  {
   "cell_type": "code",
   "execution_count": null,
   "id": "f99a0ed5",
   "metadata": {},
   "outputs": [],
   "source": [
    "scale = abs(projected_2pc).max(0)\n",
    "scaled = np.floor(np.array([ (p/scale) * ( w/2 - 20, h/2 - 20 ) + (w/2, h/2) for p in projected_2pc])).astype(int)"
   ]
  },
  {
   "cell_type": "markdown",
   "id": "e16e0599",
   "metadata": {},
   "source": [
    "Paste thumbnail of each image"
   ]
  },
  {
   "cell_type": "code",
   "execution_count": null,
   "id": "311a8bbd",
   "metadata": {},
   "outputs": [],
   "source": [
    "for i in range(imnbr):\n",
    "    nodeim = Image.open(fonts_imlist[i])\n",
    "    nodeim.thumbnail((25, 25))\n",
    "    ns = nodeim.size\n",
    "    a = scaled[i][0] - ns[0] // 2\n",
    "    b = scaled[i][1] - ns[1] // 2\n",
    "    c = scaled[i][0] + ns[0] // 2 + 1\n",
    "    d = scaled[i][1] + ns[1] // 2 + 1\n",
    "    img.paste(nodeim, box=(a, b, c, d))"
   ]
  },
  {
   "cell_type": "code",
   "execution_count": null,
   "id": "31ba7acc",
   "metadata": {},
   "outputs": [],
   "source": [
    "img.save('pca_font.jpg')"
   ]
  },
  {
   "cell_type": "code",
   "execution_count": null,
   "id": "ec705be3",
   "metadata": {},
   "outputs": [],
   "source": [
    "plt.figure(figsize=(8,10))\n",
    "plt.imshow(img)\n",
    "plt.axis('off')\n",
    "plt.show()"
   ]
  },
  {
   "cell_type": "markdown",
   "id": "e3254280",
   "metadata": {},
   "source": [
    "### Clustering Pixels"
   ]
  },
  {
   "cell_type": "markdown",
   "id": "8cb3b9f5",
   "metadata": {},
   "source": [
    "Load image"
   ]
  },
  {
   "cell_type": "code",
   "execution_count": null,
   "id": "62fac9ee",
   "metadata": {},
   "outputs": [],
   "source": [
    "im = np.array(Image.open('data/empire.jpg'))"
   ]
  },
  {
   "cell_type": "code",
   "execution_count": null,
   "id": "61262694",
   "metadata": {},
   "outputs": [],
   "source": [
    "plt.figure(figsize=(4,5))\n",
    "plt.imshow(im)\n",
    "plt.axis('off')\n",
    "plt.show()"
   ]
  },
  {
   "cell_type": "markdown",
   "id": "190c349f",
   "metadata": {},
   "source": [
    "Divide image into steps * steps regions"
   ]
  },
  {
   "cell_type": "code",
   "execution_count": null,
   "id": "a8f86e3e",
   "metadata": {},
   "outputs": [],
   "source": [
    "steps = 50\n",
    "height = im.shape[0]\n",
    "width = im.shape[1]\n",
    "dx =  height // steps\n",
    "dy = width // steps\n",
    "print(f\"Image size: ({height},{width}), dx={dx}, dy={dy}\")"
   ]
  },
  {
   "cell_type": "markdown",
   "id": "0ba27e1c",
   "metadata": {},
   "source": [
    "Compute color features for each region"
   ]
  },
  {
   "cell_type": "code",
   "execution_count": null,
   "id": "a17f657c",
   "metadata": {},
   "outputs": [],
   "source": [
    "features = []\n",
    "for x in range(steps):\n",
    "    for y in range(steps):\n",
    "        R = np.mean(im[x*dx:(x+1)*dx, y*dy:(y+1)*dy, 0])\n",
    "        G = np.mean(im[x*dx:(x+1)*dx, y*dy:(y+1)*dy, 1])\n",
    "        B = np.mean(im[x*dx:(x+1)*dx, y*dy:(y+1)*dy, 2])\n",
    "        features.append([R, G, B])\n",
    "features = np.array(features, 'f')"
   ]
  },
  {
   "cell_type": "markdown",
   "id": "9f016137",
   "metadata": {},
   "source": [
    "Cluster"
   ]
  },
  {
   "cell_type": "code",
   "execution_count": null,
   "id": "2e5bb6e9",
   "metadata": {},
   "outputs": [],
   "source": [
    "centroids, variance = kmeans(features, 3)\n",
    "code, distance = vq(features, centroids)"
   ]
  },
  {
   "cell_type": "code",
   "execution_count": null,
   "id": "72d08407",
   "metadata": {},
   "outputs": [],
   "source": [
    "code.shape"
   ]
  },
  {
   "cell_type": "markdown",
   "id": "0f02de93",
   "metadata": {},
   "source": [
    "Create image with cluster labels"
   ]
  },
  {
   "cell_type": "code",
   "execution_count": null,
   "id": "1b6e0dda",
   "metadata": {},
   "outputs": [],
   "source": [
    "codeim = code.reshape(steps, steps)\n",
    "codeim = np.array(Image.fromarray(codeim).resize((width,height), Image.NEAREST)).astype(np.double)"
   ]
  },
  {
   "cell_type": "code",
   "execution_count": null,
   "id": "e07d1d13",
   "metadata": {},
   "outputs": [],
   "source": [
    "plt.figure()\n",
    "plt.imshow(codeim)\n",
    "plt.axis('off')\n",
    "plt.show()"
   ]
  },
  {
   "cell_type": "markdown",
   "id": "68680d15",
   "metadata": {},
   "source": [
    "## 6.2 Hierarchical Clustering"
   ]
  },
  {
   "cell_type": "markdown",
   "id": "a700299e",
   "metadata": {},
   "source": [
    "Create some 2D points"
   ]
  },
  {
   "cell_type": "code",
   "execution_count": null,
   "id": "d5c9f028",
   "metadata": {},
   "outputs": [],
   "source": [
    "class1 = 1.5 * np.random.randn(100,2)\n",
    "class2 = np.random.randn(100, 2) + np.array([5, 5])\n",
    "features = np.vstack((class1, class2))"
   ]
  },
  {
   "cell_type": "markdown",
   "id": "095bb857",
   "metadata": {},
   "source": [
    "Cluster points and extracts clusters using threshold of 5"
   ]
  },
  {
   "cell_type": "code",
   "execution_count": null,
   "id": "da818443",
   "metadata": {},
   "outputs": [],
   "source": [
    "tree = hcluster.hcluster(features)\n",
    "clusters = tree.extract_clusters(5)"
   ]
  },
  {
   "cell_type": "markdown",
   "id": "1ba9cae6",
   "metadata": {},
   "source": [
    "Print clusters to console"
   ]
  },
  {
   "cell_type": "code",
   "execution_count": null,
   "id": "09da272e",
   "metadata": {},
   "outputs": [],
   "source": [
    "print(f\"Number of clusters: {len(clusters)}\")\n",
    "for c in clusters:\n",
    "    print(c.get_cluster_elements())"
   ]
  },
  {
   "cell_type": "markdown",
   "id": "4ccc70ff",
   "metadata": {},
   "source": [
    "Note: values in each cluster correspond to index of point in features vector. Expect to have 2 clusters one with values less than 100 (corresponding to class1) and one with values greater than 100 (corresponding to class 2) "
   ]
  },
  {
   "cell_type": "markdown",
   "id": "a9b6d6a9",
   "metadata": {},
   "source": [
    "### Clustering Images"
   ]
  },
  {
   "cell_type": "code",
   "execution_count": null,
   "id": "f57bdeb2",
   "metadata": {},
   "outputs": [],
   "source": [
    "sunset_imlist = imtools.get_imlist('data/flickr-sunsets-small/')"
   ]
  },
  {
   "cell_type": "markdown",
   "id": "d0d46372",
   "metadata": {},
   "source": [
    "Extract feature vector (8 bins per color channel)"
   ]
  },
  {
   "cell_type": "code",
   "execution_count": null,
   "id": "f6c91fdd",
   "metadata": {},
   "outputs": [],
   "source": [
    "features = np.zeros([len(sunset_imlist), 512])\n",
    "for i, f in enumerate(sunset_imlist):\n",
    "    im = np.array(Image.open(f))\n",
    "    \n",
    "    h, edges = np.histogramdd(im.reshape(-1, 3), 8, normed=True, range=[(0,255), (0,255), (0,255)])\n",
    "    features[i] = h.flatten()\n",
    "    \n",
    "tree = hcluster.hcluster(features)"
   ]
  },
  {
   "cell_type": "markdown",
   "id": "b808ba4f",
   "metadata": {},
   "source": [
    "Draw a dendogram"
   ]
  },
  {
   "cell_type": "code",
   "execution_count": null,
   "id": "8a070813",
   "metadata": {},
   "outputs": [],
   "source": [
    "hcluster.draw_dendrogram(tree, sunset_imlist, filename='sunset.pdf')"
   ]
  },
  {
   "cell_type": "markdown",
   "id": "dced5cbc",
   "metadata": {},
   "source": [
    "Visualize clusters with some (arbitrary) threshold"
   ]
  },
  {
   "cell_type": "code",
   "execution_count": null,
   "id": "8e15fc58",
   "metadata": {},
   "outputs": [],
   "source": [
    "clusters = tree.extract_clusters(0.23 * tree.distance)\n",
    "\n",
    "for c in clusters:\n",
    "    elements = c.get_cluster_elements()\n",
    "    nbr_elements = len(elements)\n",
    "    if nbr_elements > 3:\n",
    "        plt.figure()\n",
    "        for p in range(np.minimum(nbr_elements, 20)):\n",
    "            plt.subplot(4, 5, p+1)\n",
    "            im = np.array(Image.open(sunset_imlist[elements[p]]))\n",
    "            plt.imshow(im)\n",
    "            plt.axis('off')\n",
    "plt.show()"
   ]
  },
  {
   "cell_type": "markdown",
   "id": "b93b684c",
   "metadata": {},
   "source": [
    "Let's also draw a dendogram for the font images"
   ]
  },
  {
   "cell_type": "code",
   "execution_count": null,
   "id": "28f216e2",
   "metadata": {},
   "outputs": [],
   "source": [
    "tree = hcluster.hcluster(projected)\n",
    "hcluster.draw_dendrogram(tree, fonts_imlist, filename='fonts.jpg')"
   ]
  },
  {
   "cell_type": "markdown",
   "id": "41e7fc30",
   "metadata": {},
   "source": [
    "## 6.3 Spectral Clustering"
   ]
  },
  {
   "cell_type": "markdown",
   "id": "11576f81",
   "metadata": {},
   "source": [
    "Reusing projected font vectors again"
   ]
  },
  {
   "cell_type": "code",
   "execution_count": null,
   "id": "19f1450d",
   "metadata": {},
   "outputs": [],
   "source": [
    "n = len(projected)"
   ]
  },
  {
   "cell_type": "markdown",
   "id": "3f110c3c",
   "metadata": {},
   "source": [
    "Compute distance matrix"
   ]
  },
  {
   "cell_type": "code",
   "execution_count": null,
   "id": "16386096",
   "metadata": {},
   "outputs": [],
   "source": [
    "S = np.array([[np.sqrt(np.sum((projected[i] - projected[j])**2)) for i in range(n)] for j in range(n)], 'f')"
   ]
  },
  {
   "cell_type": "markdown",
   "id": "af39efca",
   "metadata": {},
   "source": [
    "Create Laplacian matrix"
   ]
  },
  {
   "cell_type": "code",
   "execution_count": null,
   "id": "ed0c3140",
   "metadata": {},
   "outputs": [],
   "source": [
    "rowsum = np.sum(S, axis=0)\n",
    "D = np.diag(1 / np.sqrt(rowsum))\n",
    "I = np.identity(n)\n",
    "L = I - np.dot(D, np.dot(S, D))"
   ]
  },
  {
   "cell_type": "markdown",
   "id": "6a89e787",
   "metadata": {},
   "source": [
    "Compute eigenvectors of L"
   ]
  },
  {
   "cell_type": "code",
   "execution_count": null,
   "id": "b299051e",
   "metadata": {},
   "outputs": [],
   "source": [
    "U, sigma, V = np.linalg.svd(L)"
   ]
  },
  {
   "cell_type": "markdown",
   "id": "2cb73961",
   "metadata": {},
   "source": [
    "Create feature vector from k first eigenvectors by stacking eigenvectors as columns"
   ]
  },
  {
   "cell_type": "code",
   "execution_count": null,
   "id": "f942acd1",
   "metadata": {},
   "outputs": [],
   "source": [
    "k = 5"
   ]
  },
  {
   "cell_type": "code",
   "execution_count": null,
   "id": "f278e5c1",
   "metadata": {},
   "outputs": [],
   "source": [
    "features = np.array(V[:k]).T"
   ]
  },
  {
   "cell_type": "markdown",
   "id": "805bb303",
   "metadata": {},
   "source": [
    "*K*-Means"
   ]
  },
  {
   "cell_type": "code",
   "execution_count": null,
   "id": "017942fc",
   "metadata": {},
   "outputs": [],
   "source": [
    "features = whiten(features)\n",
    "centroids, distortion = kmeans(features, k)\n",
    "code, distance = vq(features, centroids)"
   ]
  },
  {
   "cell_type": "markdown",
   "id": "b11cd276",
   "metadata": {},
   "source": [
    "Plot clusters"
   ]
  },
  {
   "cell_type": "code",
   "execution_count": null,
   "id": "b54b4ff2",
   "metadata": {},
   "outputs": [],
   "source": [
    "ncol, nrow = grid_size_for_k[k]\n",
    "fig = plt.figure(figsize=(15, 8))\n",
    "outer = gridspec.GridSpec(ncol, nrow, wspace=0.2, hspace=0.2)\n",
    "plt.gray()\n",
    "for i in range(k):\n",
    "    ind = np.where(code==i)[0]\n",
    "    inner = gridspec.GridSpecFromSubplotSpec(4, 10,\n",
    "                    subplot_spec=outer[i], wspace=0.1, hspace=0.1)\n",
    "    for j in range(np.minimum(len(ind), 39)):\n",
    "        im = Image.open(fonts_imlist[ind[j]])\n",
    "        ax = plt.Subplot(fig, inner[j])\n",
    "        ax.axis('off')\n",
    "        ax.imshow(np.array(im))\n",
    "        if j == 0:\n",
    "            ax.set_title(f\"Cluster {i}\")\n",
    "        fig.add_subplot(ax)\n",
    "plt.show()"
   ]
  },
  {
   "cell_type": "code",
   "execution_count": null,
   "id": "63245128",
   "metadata": {},
   "outputs": [],
   "source": []
  }
 ],
 "metadata": {
  "kernelspec": {
   "display_name": "Python 3 (ipykernel)",
   "language": "python",
   "name": "python3"
  },
  "language_info": {
   "codemirror_mode": {
    "name": "ipython",
    "version": 3
   },
   "file_extension": ".py",
   "mimetype": "text/x-python",
   "name": "python",
   "nbconvert_exporter": "python",
   "pygments_lexer": "ipython3",
   "version": "3.9.6"
  }
 },
 "nbformat": 4,
 "nbformat_minor": 5
}
